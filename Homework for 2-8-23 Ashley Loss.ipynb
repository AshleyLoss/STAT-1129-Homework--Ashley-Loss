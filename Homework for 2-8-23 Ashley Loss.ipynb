{
 "cells": [
  {
   "cell_type": "code",
   "execution_count": 31,
   "id": "f6a875e6",
   "metadata": {},
   "outputs": [],
   "source": [
    "nums = list(range(30, 65, 5))"
   ]
  },
  {
   "cell_type": "code",
   "execution_count": 32,
   "id": "f8eb4bea",
   "metadata": {},
   "outputs": [
    {
     "name": "stdout",
     "output_type": "stream",
     "text": [
      "[30, 35, 40, 45, 50, 55, 60]\n"
     ]
    }
   ],
   "source": [
    "print(nums)"
   ]
  },
  {
   "cell_type": "code",
   "execution_count": 33,
   "id": "90b149d0",
   "metadata": {},
   "outputs": [
    {
     "name": "stdout",
     "output_type": "stream",
     "text": [
      "[60, 55, 50, 45, 40, 35, 30]\n"
     ]
    }
   ],
   "source": [
    "print(nums[::-1])"
   ]
  },
  {
   "cell_type": "code",
   "execution_count": 37,
   "id": "fc165fce",
   "metadata": {},
   "outputs": [],
   "source": [
    "nums.append(65)"
   ]
  },
  {
   "cell_type": "code",
   "execution_count": 38,
   "id": "1463ae2d",
   "metadata": {},
   "outputs": [
    {
     "name": "stdout",
     "output_type": "stream",
     "text": [
      "[65, 60, 55, 50, 45, 40, 35, 30]\n"
     ]
    }
   ],
   "source": [
    "print(nums[::-1])"
   ]
  },
  {
   "cell_type": "code",
   "execution_count": 36,
   "id": "56bda092",
   "metadata": {},
   "outputs": [],
   "source": [
    "#Number 2"
   ]
  },
  {
   "cell_type": "code",
   "execution_count": 106,
   "id": "1e503b6a",
   "metadata": {},
   "outputs": [],
   "source": [
    "b_list = []"
   ]
  },
  {
   "cell_type": "code",
   "execution_count": 107,
   "id": "0f83db2c",
   "metadata": {},
   "outputs": [],
   "source": [
    "for number in range(0, 21):\n",
    "    b_list += [number]"
   ]
  },
  {
   "cell_type": "code",
   "execution_count": 108,
   "id": "ecf451fa",
   "metadata": {},
   "outputs": [
    {
     "data": {
      "text/plain": [
       "[0, 1, 2, 3, 4, 5, 6, 7, 8, 9, 10, 11, 12, 13, 14, 15, 16, 17, 18, 19, 20]"
      ]
     },
     "execution_count": 108,
     "metadata": {},
     "output_type": "execute_result"
    }
   ],
   "source": [
    "b_list"
   ]
  },
  {
   "cell_type": "code",
   "execution_count": 109,
   "id": "3837f6ef",
   "metadata": {},
   "outputs": [],
   "source": [
    "del b_list[0]"
   ]
  },
  {
   "cell_type": "code",
   "execution_count": 110,
   "id": "6bb9db83",
   "metadata": {},
   "outputs": [
    {
     "data": {
      "text/plain": [
       "[1, 2, 3, 4, 5, 6, 7, 8, 9, 10, 11, 12, 13, 14, 15, 16, 17, 18, 19, 20]"
      ]
     },
     "execution_count": 110,
     "metadata": {},
     "output_type": "execute_result"
    }
   ],
   "source": [
    "b_list"
   ]
  },
  {
   "cell_type": "code",
   "execution_count": 111,
   "id": "334e8792",
   "metadata": {},
   "outputs": [
    {
     "data": {
      "text/plain": [
       "20"
      ]
     },
     "execution_count": 111,
     "metadata": {},
     "output_type": "execute_result"
    }
   ],
   "source": [
    "len(b_list)"
   ]
  },
  {
   "cell_type": "code",
   "execution_count": 112,
   "id": "32e0918c",
   "metadata": {},
   "outputs": [
    {
     "data": {
      "text/plain": [
       "20"
      ]
     },
     "execution_count": 112,
     "metadata": {},
     "output_type": "execute_result"
    }
   ],
   "source": [
    "max(b_list)"
   ]
  },
  {
   "cell_type": "code",
   "execution_count": 113,
   "id": "f17a7c10",
   "metadata": {},
   "outputs": [
    {
     "data": {
      "text/plain": [
       "1"
      ]
     },
     "execution_count": 113,
     "metadata": {},
     "output_type": "execute_result"
    }
   ],
   "source": [
    "min(b_list)"
   ]
  },
  {
   "cell_type": "code",
   "execution_count": 115,
   "id": "f28278cd",
   "metadata": {},
   "outputs": [
    {
     "data": {
      "text/plain": [
       "210"
      ]
     },
     "execution_count": 115,
     "metadata": {},
     "output_type": "execute_result"
    }
   ],
   "source": [
    "sum(b_list)"
   ]
  },
  {
   "cell_type": "code",
   "execution_count": 116,
   "id": "38502591",
   "metadata": {},
   "outputs": [],
   "source": [
    "#number 3"
   ]
  },
  {
   "cell_type": "code",
   "execution_count": 1,
   "id": "a6962d54",
   "metadata": {},
   "outputs": [],
   "source": [
    "weather_dictionary = {'sunny':'play', 'rainy': 'watch tv', 'cloudy' : 'walk'}"
   ]
  },
  {
   "cell_type": "code",
   "execution_count": 4,
   "id": "740e5e60",
   "metadata": {},
   "outputs": [
    {
     "name": "stdout",
     "output_type": "stream",
     "text": [
      "when sunny let us play\n",
      "when rainy let us watch tv\n",
      "when cloudy let us walk\n"
     ]
    }
   ],
   "source": [
    "for sunny, play in weather_dictionary.items():\n",
    "    print(\"when\" f' {sunny} let us {play}')"
   ]
  },
  {
   "cell_type": "code",
   "execution_count": 9,
   "id": "7562c18c",
   "metadata": {},
   "outputs": [],
   "source": [
    "weather_dictionary = {'sunny':'play', 'rainy': 'watch tv', 'cloudy' : 'walk', 'snowy' : 'ski'}"
   ]
  },
  {
   "cell_type": "code",
   "execution_count": 10,
   "id": "14a41c71",
   "metadata": {},
   "outputs": [
    {
     "name": "stdout",
     "output_type": "stream",
     "text": [
      "when sunny let us play\n",
      "when rainy let us watch tv\n",
      "when cloudy let us walk\n",
      "when snowy let us ski\n"
     ]
    }
   ],
   "source": [
    "for sunny, play in weather_dictionary.items():\n",
    "    print(\"when\" f' {sunny} let us {play}')"
   ]
  },
  {
   "cell_type": "code",
   "execution_count": null,
   "id": "72070e3d",
   "metadata": {},
   "outputs": [],
   "source": []
  }
 ],
 "metadata": {
  "kernelspec": {
   "display_name": "Python 3 (ipykernel)",
   "language": "python",
   "name": "python3"
  },
  "language_info": {
   "codemirror_mode": {
    "name": "ipython",
    "version": 3
   },
   "file_extension": ".py",
   "mimetype": "text/x-python",
   "name": "python",
   "nbconvert_exporter": "python",
   "pygments_lexer": "ipython3",
   "version": "3.9.13"
  }
 },
 "nbformat": 4,
 "nbformat_minor": 5
}
