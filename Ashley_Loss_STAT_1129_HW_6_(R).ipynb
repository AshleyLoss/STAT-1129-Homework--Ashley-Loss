{
  "nbformat": 4,
  "nbformat_minor": 0,
  "metadata": {
    "colab": {
      "provenance": []
    },
    "kernelspec": {
      "name": "ir",
      "display_name": "R"
    },
    "language_info": {
      "name": "R"
    }
  },
  "cells": [
    {
      "cell_type": "code",
      "execution_count": 6,
      "metadata": {
        "id": "8eu08e78cIeE"
      },
      "outputs": [],
      "source": [
        "# Question 1:"
      ]
    },
    {
      "cell_type": "code",
      "source": [
        "matrix_1 <- matrix(c(7,2,9,4,12,13), nrow = 2, ncol = 3)"
      ],
      "metadata": {
        "id": "PDoLG9IR6SWH"
      },
      "execution_count": 47,
      "outputs": []
    },
    {
      "cell_type": "code",
      "source": [
        "matrix_1"
      ],
      "metadata": {
        "colab": {
          "base_uri": "https://localhost:8080/",
          "height": 130
        },
        "id": "iicxyTqMcR39",
        "outputId": "01f78cca-227e-4af0-cba5-31cf46e91a27"
      },
      "execution_count": 48,
      "outputs": [
        {
          "output_type": "display_data",
          "data": {
            "text/html": [
              "<table class=\"dataframe\">\n",
              "<caption>A matrix: 2 × 3 of type dbl</caption>\n",
              "<tbody>\n",
              "\t<tr><td>7</td><td>9</td><td>12</td></tr>\n",
              "\t<tr><td>2</td><td>4</td><td>13</td></tr>\n",
              "</tbody>\n",
              "</table>\n"
            ],
            "text/markdown": "\nA matrix: 2 × 3 of type dbl\n\n| 7 | 9 | 12 |\n| 2 | 4 | 13 |\n\n",
            "text/latex": "A matrix: 2 × 3 of type dbl\n\\begin{tabular}{lll}\n\t 7 & 9 & 12\\\\\n\t 2 & 4 & 13\\\\\n\\end{tabular}\n",
            "text/plain": [
              "     [,1] [,2] [,3]\n",
              "[1,] 7    9    12  \n",
              "[2,] 2    4    13  "
            ]
          },
          "metadata": {}
        }
      ]
    },
    {
      "cell_type": "code",
      "source": [
        "matrix_2 <- matrix(c(1,2,3,7,8,9,12,13,14,19,20,21), nrow = 3, ncol = 4)"
      ],
      "metadata": {
        "id": "Xz7OxR55crvQ"
      },
      "execution_count": 8,
      "outputs": []
    },
    {
      "cell_type": "code",
      "source": [
        "matrix_2"
      ],
      "metadata": {
        "colab": {
          "base_uri": "https://localhost:8080/",
          "height": 144
        },
        "id": "izftBwxwcr1H",
        "outputId": "add256df-dfa8-42d4-9dfa-27a227be9487"
      },
      "execution_count": 9,
      "outputs": [
        {
          "output_type": "display_data",
          "data": {
            "text/html": [
              "<table class=\"dataframe\">\n",
              "<caption>A matrix: 3 × 4 of type dbl</caption>\n",
              "<tbody>\n",
              "\t<tr><td>1</td><td>7</td><td>12</td><td>19</td></tr>\n",
              "\t<tr><td>2</td><td>8</td><td>13</td><td>20</td></tr>\n",
              "\t<tr><td>3</td><td>9</td><td>14</td><td>21</td></tr>\n",
              "</tbody>\n",
              "</table>\n"
            ],
            "text/markdown": "\nA matrix: 3 × 4 of type dbl\n\n| 1 | 7 | 12 | 19 |\n| 2 | 8 | 13 | 20 |\n| 3 | 9 | 14 | 21 |\n\n",
            "text/latex": "A matrix: 3 × 4 of type dbl\n\\begin{tabular}{llll}\n\t 1 & 7 & 12 & 19\\\\\n\t 2 & 8 & 13 & 20\\\\\n\t 3 & 9 & 14 & 21\\\\\n\\end{tabular}\n",
            "text/plain": [
              "     [,1] [,2] [,3] [,4]\n",
              "[1,] 1    7    12   19  \n",
              "[2,] 2    8    13   20  \n",
              "[3,] 3    9    14   21  "
            ]
          },
          "metadata": {}
        }
      ]
    },
    {
      "cell_type": "code",
      "source": [
        "matrix_1 %*% matrix_2"
      ],
      "metadata": {
        "colab": {
          "base_uri": "https://localhost:8080/",
          "height": 113
        },
        "id": "AcVFMAIsdBhx",
        "outputId": "1cc49e72-1ea7-4950-a5c2-39d37ea68e28"
      },
      "execution_count": 14,
      "outputs": [
        {
          "output_type": "display_data",
          "data": {
            "text/html": [
              "<table class=\"dataframe\">\n",
              "<caption>A matrix: 2 × 4 of type dbl</caption>\n",
              "<tbody>\n",
              "\t<tr><td>61</td><td>229</td><td>369</td><td>565</td></tr>\n",
              "\t<tr><td>49</td><td>163</td><td>258</td><td>391</td></tr>\n",
              "</tbody>\n",
              "</table>\n"
            ],
            "text/markdown": "\nA matrix: 2 × 4 of type dbl\n\n| 61 | 229 | 369 | 565 |\n| 49 | 163 | 258 | 391 |\n\n",
            "text/latex": "A matrix: 2 × 4 of type dbl\n\\begin{tabular}{llll}\n\t 61 & 229 & 369 & 565\\\\\n\t 49 & 163 & 258 & 391\\\\\n\\end{tabular}\n",
            "text/plain": [
              "     [,1] [,2] [,3] [,4]\n",
              "[1,] 61   229  369  565 \n",
              "[2,] 49   163  258  391 "
            ]
          },
          "metadata": {}
        }
      ]
    },
    {
      "cell_type": "code",
      "source": [
        "#Question 2"
      ],
      "metadata": {
        "id": "nTFcyXlRfavW"
      },
      "execution_count": 15,
      "outputs": []
    },
    {
      "cell_type": "code",
      "source": [
        "Data_Frame <- data.frame (\n",
        "  id = c(\"1\", \"2\", \"3\", \"4\", \"5\"),\n",
        "  name = c(\"Peter\", \"Amy\", \"Ryan\", \"Gary\", \"Michelle\"),\n",
        "  salary = c(623.30, 515.20, 611.00, 729.00, 843.25)\n",
        ")\n",
        "Data_Frame "
      ],
      "metadata": {
        "colab": {
          "base_uri": "https://localhost:8080/",
          "height": 252
        },
        "id": "v-SFlprGfc99",
        "outputId": "db5558fc-f38f-4284-cbbd-09c6436d7882"
      },
      "execution_count": 30,
      "outputs": [
        {
          "output_type": "display_data",
          "data": {
            "text/html": [
              "<table class=\"dataframe\">\n",
              "<caption>A data.frame: 5 × 3</caption>\n",
              "<thead>\n",
              "\t<tr><th scope=col>id</th><th scope=col>name</th><th scope=col>salary</th></tr>\n",
              "\t<tr><th scope=col>&lt;chr&gt;</th><th scope=col>&lt;chr&gt;</th><th scope=col>&lt;dbl&gt;</th></tr>\n",
              "</thead>\n",
              "<tbody>\n",
              "\t<tr><td>1</td><td>Peter   </td><td>623.30</td></tr>\n",
              "\t<tr><td>2</td><td>Amy     </td><td>515.20</td></tr>\n",
              "\t<tr><td>3</td><td>Ryan    </td><td>611.00</td></tr>\n",
              "\t<tr><td>4</td><td>Gary    </td><td>729.00</td></tr>\n",
              "\t<tr><td>5</td><td>Michelle</td><td>843.25</td></tr>\n",
              "</tbody>\n",
              "</table>\n"
            ],
            "text/markdown": "\nA data.frame: 5 × 3\n\n| id &lt;chr&gt; | name &lt;chr&gt; | salary &lt;dbl&gt; |\n|---|---|---|\n| 1 | Peter    | 623.30 |\n| 2 | Amy      | 515.20 |\n| 3 | Ryan     | 611.00 |\n| 4 | Gary     | 729.00 |\n| 5 | Michelle | 843.25 |\n\n",
            "text/latex": "A data.frame: 5 × 3\n\\begin{tabular}{lll}\n id & name & salary\\\\\n <chr> & <chr> & <dbl>\\\\\n\\hline\n\t 1 & Peter    & 623.30\\\\\n\t 2 & Amy      & 515.20\\\\\n\t 3 & Ryan     & 611.00\\\\\n\t 4 & Gary     & 729.00\\\\\n\t 5 & Michelle & 843.25\\\\\n\\end{tabular}\n",
            "text/plain": [
              "  id name     salary\n",
              "1 1  Peter    623.30\n",
              "2 2  Amy      515.20\n",
              "3 3  Ryan     611.00\n",
              "4 4  Gary     729.00\n",
              "5 5  Michelle 843.25"
            ]
          },
          "metadata": {}
        }
      ]
    },
    {
      "cell_type": "code",
      "source": [
        "# Question b:"
      ],
      "metadata": {
        "id": "dQa2LK6h6eqD"
      },
      "execution_count": null,
      "outputs": []
    },
    {
      "cell_type": "code",
      "source": [
        "Data_Frame <- data.frame (\n",
        "  id = c(\"1\", \"2\", \"3\", \"4\", \"5\"),\n",
        "  name = c(\"Peter\", \"Amy\", \"Ryan\", \"Gary\", \"Michelle\"),\n",
        "  salary = c(623.30, 515.20, 611.00, 729.00, 843.25)\n",
        "  \n",
        ")\n",
        "Data_Frame \n",
        "\n",
        "New_row_DF <- cbind(Data_Frame, department = c(\"home-goods\", \"appliance\", \"produce\", \"sales\", \"security\"))"
      ],
      "metadata": {
        "colab": {
          "base_uri": "https://localhost:8080/",
          "height": 252
        },
        "id": "8FO6eNDd2WLY",
        "outputId": "fbb65719-2f6d-4501-9994-79359257ed96"
      },
      "execution_count": 36,
      "outputs": [
        {
          "output_type": "display_data",
          "data": {
            "text/html": [
              "<table class=\"dataframe\">\n",
              "<caption>A data.frame: 5 × 3</caption>\n",
              "<thead>\n",
              "\t<tr><th scope=col>id</th><th scope=col>name</th><th scope=col>salary</th></tr>\n",
              "\t<tr><th scope=col>&lt;chr&gt;</th><th scope=col>&lt;chr&gt;</th><th scope=col>&lt;dbl&gt;</th></tr>\n",
              "</thead>\n",
              "<tbody>\n",
              "\t<tr><td>1</td><td>Peter   </td><td>623.30</td></tr>\n",
              "\t<tr><td>2</td><td>Amy     </td><td>515.20</td></tr>\n",
              "\t<tr><td>3</td><td>Ryan    </td><td>611.00</td></tr>\n",
              "\t<tr><td>4</td><td>Gary    </td><td>729.00</td></tr>\n",
              "\t<tr><td>5</td><td>Michelle</td><td>843.25</td></tr>\n",
              "</tbody>\n",
              "</table>\n"
            ],
            "text/markdown": "\nA data.frame: 5 × 3\n\n| id &lt;chr&gt; | name &lt;chr&gt; | salary &lt;dbl&gt; |\n|---|---|---|\n| 1 | Peter    | 623.30 |\n| 2 | Amy      | 515.20 |\n| 3 | Ryan     | 611.00 |\n| 4 | Gary     | 729.00 |\n| 5 | Michelle | 843.25 |\n\n",
            "text/latex": "A data.frame: 5 × 3\n\\begin{tabular}{lll}\n id & name & salary\\\\\n <chr> & <chr> & <dbl>\\\\\n\\hline\n\t 1 & Peter    & 623.30\\\\\n\t 2 & Amy      & 515.20\\\\\n\t 3 & Ryan     & 611.00\\\\\n\t 4 & Gary     & 729.00\\\\\n\t 5 & Michelle & 843.25\\\\\n\\end{tabular}\n",
            "text/plain": [
              "  id name     salary\n",
              "1 1  Peter    623.30\n",
              "2 2  Amy      515.20\n",
              "3 3  Ryan     611.00\n",
              "4 4  Gary     729.00\n",
              "5 5  Michelle 843.25"
            ]
          },
          "metadata": {}
        }
      ]
    },
    {
      "cell_type": "code",
      "source": [
        "New_row_DF"
      ],
      "metadata": {
        "colab": {
          "base_uri": "https://localhost:8080/",
          "height": 252
        },
        "id": "QxAL5JpA2WNV",
        "outputId": "a127c224-f08e-4037-9def-3aee6cfc90bd"
      },
      "execution_count": 37,
      "outputs": [
        {
          "output_type": "display_data",
          "data": {
            "text/html": [
              "<table class=\"dataframe\">\n",
              "<caption>A data.frame: 5 × 4</caption>\n",
              "<thead>\n",
              "\t<tr><th scope=col>id</th><th scope=col>name</th><th scope=col>salary</th><th scope=col>department</th></tr>\n",
              "\t<tr><th scope=col>&lt;chr&gt;</th><th scope=col>&lt;chr&gt;</th><th scope=col>&lt;dbl&gt;</th><th scope=col>&lt;chr&gt;</th></tr>\n",
              "</thead>\n",
              "<tbody>\n",
              "\t<tr><td>1</td><td>Peter   </td><td>623.30</td><td>home-goods</td></tr>\n",
              "\t<tr><td>2</td><td>Amy     </td><td>515.20</td><td>appliance </td></tr>\n",
              "\t<tr><td>3</td><td>Ryan    </td><td>611.00</td><td>produce   </td></tr>\n",
              "\t<tr><td>4</td><td>Gary    </td><td>729.00</td><td>sales     </td></tr>\n",
              "\t<tr><td>5</td><td>Michelle</td><td>843.25</td><td>security  </td></tr>\n",
              "</tbody>\n",
              "</table>\n"
            ],
            "text/markdown": "\nA data.frame: 5 × 4\n\n| id &lt;chr&gt; | name &lt;chr&gt; | salary &lt;dbl&gt; | department &lt;chr&gt; |\n|---|---|---|---|\n| 1 | Peter    | 623.30 | home-goods |\n| 2 | Amy      | 515.20 | appliance  |\n| 3 | Ryan     | 611.00 | produce    |\n| 4 | Gary     | 729.00 | sales      |\n| 5 | Michelle | 843.25 | security   |\n\n",
            "text/latex": "A data.frame: 5 × 4\n\\begin{tabular}{llll}\n id & name & salary & department\\\\\n <chr> & <chr> & <dbl> & <chr>\\\\\n\\hline\n\t 1 & Peter    & 623.30 & home-goods\\\\\n\t 2 & Amy      & 515.20 & appliance \\\\\n\t 3 & Ryan     & 611.00 & produce   \\\\\n\t 4 & Gary     & 729.00 & sales     \\\\\n\t 5 & Michelle & 843.25 & security  \\\\\n\\end{tabular}\n",
            "text/plain": [
              "  id name     salary department\n",
              "1 1  Peter    623.30 home-goods\n",
              "2 2  Amy      515.20 appliance \n",
              "3 3  Ryan     611.00 produce   \n",
              "4 4  Gary     729.00 sales     \n",
              "5 5  Michelle 843.25 security  "
            ]
          },
          "metadata": {}
        }
      ]
    },
    {
      "cell_type": "code",
      "source": [
        "# Question c)"
      ],
      "metadata": {
        "id": "w7O0lmzi6J94"
      },
      "execution_count": null,
      "outputs": []
    },
    {
      "cell_type": "code",
      "source": [
        "Data_Frame_New <- New_row_DF[-c(1,3,5), -c(2,3)]"
      ],
      "metadata": {
        "id": "KH9KfTAW4E8O"
      },
      "execution_count": 44,
      "outputs": []
    },
    {
      "cell_type": "code",
      "source": [
        "Data_Frame_New"
      ],
      "metadata": {
        "colab": {
          "base_uri": "https://localhost:8080/",
          "height": 159
        },
        "id": "hjbXvt5g5YXR",
        "outputId": "fee62685-444f-47f0-e71c-670a0b2db3b5"
      },
      "execution_count": 46,
      "outputs": [
        {
          "output_type": "display_data",
          "data": {
            "text/html": [
              "<table class=\"dataframe\">\n",
              "<caption>A data.frame: 2 × 2</caption>\n",
              "<thead>\n",
              "\t<tr><th></th><th scope=col>id</th><th scope=col>department</th></tr>\n",
              "\t<tr><th></th><th scope=col>&lt;chr&gt;</th><th scope=col>&lt;chr&gt;</th></tr>\n",
              "</thead>\n",
              "<tbody>\n",
              "\t<tr><th scope=row>2</th><td>2</td><td>appliance</td></tr>\n",
              "\t<tr><th scope=row>4</th><td>4</td><td>sales    </td></tr>\n",
              "</tbody>\n",
              "</table>\n"
            ],
            "text/markdown": "\nA data.frame: 2 × 2\n\n| <!--/--> | id &lt;chr&gt; | department &lt;chr&gt; |\n|---|---|---|\n| 2 | 2 | appliance |\n| 4 | 4 | sales     |\n\n",
            "text/latex": "A data.frame: 2 × 2\n\\begin{tabular}{r|ll}\n  & id & department\\\\\n  & <chr> & <chr>\\\\\n\\hline\n\t2 & 2 & appliance\\\\\n\t4 & 4 & sales    \\\\\n\\end{tabular}\n",
            "text/plain": [
              "  id department\n",
              "2 2  appliance \n",
              "4 4  sales     "
            ]
          },
          "metadata": {}
        }
      ]
    },
    {
      "cell_type": "code",
      "source": [
        "# Question d)"
      ],
      "metadata": {
        "id": "H7Km5wMK6Pw_"
      },
      "execution_count": null,
      "outputs": []
    },
    {
      "cell_type": "code",
      "source": [
        "new_matrix_1 <- New_row_DF[-c(2,3), -c(1,4)]"
      ],
      "metadata": {
        "id": "E67yqk9K98ut"
      },
      "execution_count": 53,
      "outputs": []
    },
    {
      "cell_type": "code",
      "source": [
        "new_matrix_1"
      ],
      "metadata": {
        "colab": {
          "base_uri": "https://localhost:8080/",
          "height": 190
        },
        "id": "A9nk65yP_EwY",
        "outputId": "d2142cde-a59c-4c82-87c2-fe592ba38c06"
      },
      "execution_count": 54,
      "outputs": [
        {
          "output_type": "display_data",
          "data": {
            "text/html": [
              "<table class=\"dataframe\">\n",
              "<caption>A data.frame: 3 × 2</caption>\n",
              "<thead>\n",
              "\t<tr><th></th><th scope=col>name</th><th scope=col>salary</th></tr>\n",
              "\t<tr><th></th><th scope=col>&lt;chr&gt;</th><th scope=col>&lt;dbl&gt;</th></tr>\n",
              "</thead>\n",
              "<tbody>\n",
              "\t<tr><th scope=row>1</th><td>Peter   </td><td>623.30</td></tr>\n",
              "\t<tr><th scope=row>4</th><td>Gary    </td><td>729.00</td></tr>\n",
              "\t<tr><th scope=row>5</th><td>Michelle</td><td>843.25</td></tr>\n",
              "</tbody>\n",
              "</table>\n"
            ],
            "text/markdown": "\nA data.frame: 3 × 2\n\n| <!--/--> | name &lt;chr&gt; | salary &lt;dbl&gt; |\n|---|---|---|\n| 1 | Peter    | 623.30 |\n| 4 | Gary     | 729.00 |\n| 5 | Michelle | 843.25 |\n\n",
            "text/latex": "A data.frame: 3 × 2\n\\begin{tabular}{r|ll}\n  & name & salary\\\\\n  & <chr> & <dbl>\\\\\n\\hline\n\t1 & Peter    & 623.30\\\\\n\t4 & Gary     & 729.00\\\\\n\t5 & Michelle & 843.25\\\\\n\\end{tabular}\n",
            "text/plain": [
              "  name     salary\n",
              "1 Peter    623.30\n",
              "4 Gary     729.00\n",
              "5 Michelle 843.25"
            ]
          },
          "metadata": {}
        }
      ]
    },
    {
      "cell_type": "code",
      "source": [
        "x <- c(\"Peter\", \"Gary\", \"Michelle\")\n",
        "\n",
        "y <- c(623.30, 729.00, 842.25)\n",
        "\n",
        "barplot(y, names.arg = x)"
      ],
      "metadata": {
        "colab": {
          "base_uri": "https://localhost:8080/",
          "height": 437
        },
        "id": "VF36zhC__ZVN",
        "outputId": "d1694f69-6151-4329-9b67-59369a963c8a"
      },
      "execution_count": 56,
      "outputs": [
        {
          "output_type": "display_data",
          "data": {
            "text/plain": [
              "plot without title"
            ],
            "image/png": "[encoded data removed]"
          },
          "metadata": {
            "image/png": {
              "width": 420,
              "height": 420
            }
          }
        }
      ]
    },
    {
      "cell_type": "code",
      "source": [
        "# Question e)"
      ],
      "metadata": {
        "id": "_0UBfU1dBZWW"
      },
      "execution_count": null,
      "outputs": []
    },
    {
      "cell_type": "code",
      "source": [
        "mylabel <- c(\"Highest salary\", \"Lowest salary\", \"median salary\")\n",
        "\n",
        "colors <- c(\"red\", \"yellow\", \"orange\")\n",
        "\n",
        "# values correlate with highest, lowest, and mean salary from data frame above^\n",
        "x <- c(843.25, 515.20, 623.3)\n",
        "\n",
        "pie(x, label = mylabel, main = \"Salary Pie Chart\", col = colors)\n",
        "\n",
        "legend(\"bottomleft\", mylabel, fill = colors)\n",
        "     "
      ],
      "metadata": {
        "colab": {
          "base_uri": "https://localhost:8080/",
          "height": 437
        },
        "id": "FMzLJl_H_w_S",
        "outputId": "325d6f8b-bc89-4c98-fd64-1281f9ed46ad"
      },
      "execution_count": 64,
      "outputs": [
        {
          "output_type": "display_data",
          "data": {
            "text/plain": [
              "Plot with title “Salary Pie Chart”"
            ],
            "image/png": "[encoded data removed]"
          },
          "metadata": {
            "image/png": {
              "width": 420,
              "height": 420
            }
          }
        }
      ]
    },
    {
      "cell_type": "code",
      "source": [
        "median(623.30, 515,20, 611.00, 729.00, 843.23)"
      ],
      "metadata": {
        "colab": {
          "base_uri": "https://localhost:8080/",
          "height": 34
        },
        "id": "eichYU0I_xBl",
        "outputId": "a9cbc4ea-fd9d-4c2f-c470-a4804ad332eb"
      },
      "execution_count": 61,
      "outputs": [
        {
          "output_type": "display_data",
          "data": {
            "text/html": [
              "623.3"
            ],
            "text/markdown": "623.3",
            "text/latex": "623.3",
            "text/plain": [
              "[1] 623.3"
            ]
          },
          "metadata": {}
        }
      ]
    }
  ]
}