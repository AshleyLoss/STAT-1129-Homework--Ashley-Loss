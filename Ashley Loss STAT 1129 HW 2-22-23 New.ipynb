{
 "cells": [
  {
   "cell_type": "code",
   "execution_count": 30,
   "id": "85e7b008",
   "metadata": {},
   "outputs": [],
   "source": [
    "# 1"
   ]
  },
  {
   "cell_type": "code",
   "execution_count": 29,
   "id": "4c2b1591",
   "metadata": {},
   "outputs": [
    {
     "name": "stdout",
     "output_type": "stream",
     "text": [
      "0\n",
      "1\n",
      "2\n",
      "3\n",
      "4\n"
     ]
    }
   ],
   "source": [
    "n = 0\n",
    "while n < 10:\n",
    "    print(n)\n",
    "    if n == 4:\n",
    "        break \n",
    "    n += 1  "
   ]
  },
  {
   "cell_type": "code",
   "execution_count": null,
   "id": "8fe0b64d",
   "metadata": {},
   "outputs": [],
   "source": [
    "#2"
   ]
  },
  {
   "cell_type": "code",
   "execution_count": 1,
   "id": "e1633dfa",
   "metadata": {},
   "outputs": [
    {
     "name": "stdout",
     "output_type": "stream",
     "text": [
      "0\n",
      "1\n",
      "2\n",
      "3\n",
      "4\n",
      "5 is not less than 5\n"
     ]
    }
   ],
   "source": [
    "n = 0\n",
    "while n < 5:\n",
    "  print (n)\n",
    "  n += 1\n",
    "\n",
    "else:\n",
    "    print(n, \"is not less than 5\")"
   ]
  },
  {
   "cell_type": "code",
   "execution_count": null,
   "id": "673f149b",
   "metadata": {},
   "outputs": [],
   "source": [
    "#3"
   ]
  },
  {
   "cell_type": "code",
   "execution_count": 28,
   "id": "df12f6f8",
   "metadata": {},
   "outputs": [
    {
     "name": "stdout",
     "output_type": "stream",
     "text": [
      "I like lemon\n",
      "I like apple\n",
      "I like kiwi\n",
      "I like lime\n"
     ]
    }
   ],
   "source": [
    "my_fruits = {'lime', 'lemon', 'apple', 'kiwi'}\n",
    "for fruit in my_fruits:\n",
    "    print(\"I like\", fruit)"
   ]
  },
  {
   "cell_type": "code",
   "execution_count": 26,
   "id": "bd972ce5",
   "metadata": {},
   "outputs": [
    {
     "name": "stdout",
     "output_type": "stream",
     "text": [
      "I like lemon\n",
      "I like apple\n",
      "is apple really a fruit?\n"
     ]
    }
   ],
   "source": [
    "my_fruits = {'lime', 'lemon', 'apple', 'kiwi'}\n",
    "for fruit in my_fruits:\n",
    "    print(\"I like\", fruit)\n",
    "    if fruit == 'apple':\n",
    "        break\n",
    "print('is apple really a fruit?')"
   ]
  },
  {
   "cell_type": "code",
   "execution_count": null,
   "id": "ebd15151",
   "metadata": {},
   "outputs": [],
   "source": [
    "#4"
   ]
  },
  {
   "cell_type": "code",
   "execution_count": 10,
   "id": "68586aec",
   "metadata": {},
   "outputs": [
    {
     "name": "stdout",
     "output_type": "stream",
     "text": [
      "465\n"
     ]
    }
   ],
   "source": [
    "Sum = 0 \n",
    "num = 1 \n",
    "while num <= 30: \n",
    "    Sum += num \n",
    "    num += 1    \n",
    "print(Sum)"
   ]
  },
  {
   "cell_type": "code",
   "execution_count": null,
   "id": "4703644d",
   "metadata": {},
   "outputs": [],
   "source": [
    "#5"
   ]
  },
  {
   "cell_type": "code",
   "execution_count": 13,
   "id": "fc1dde85",
   "metadata": {},
   "outputs": [],
   "source": [
    "grade = 90"
   ]
  },
  {
   "cell_type": "code",
   "execution_count": 14,
   "id": "ebc9b946",
   "metadata": {},
   "outputs": [
    {
     "name": "stdout",
     "output_type": "stream",
     "text": [
      "A\n"
     ]
    }
   ],
   "source": [
    "if grade >= 90:\n",
    "    print('A')\n",
    "elif grade <= [80,90]:\n",
    "    print('B')\n",
    "elif grade <= [70,80]:\n",
    "    print('C')\n",
    "elif grade <= [60,70]:\n",
    "    print('D')\n",
    "else:\n",
    "    print('F')"
   ]
  },
  {
   "cell_type": "code",
   "execution_count": null,
   "id": "213acc67",
   "metadata": {},
   "outputs": [],
   "source": [
    "#6"
   ]
  },
  {
   "cell_type": "code",
   "execution_count": 49,
   "id": "f9266bdb",
   "metadata": {},
   "outputs": [],
   "source": [
    "my_dictionary = {'Andy': 88, 'Amy': 66, 'James': 90, 'Jules': 55, 'Arthur': 77}"
   ]
  },
  {
   "cell_type": "code",
   "execution_count": null,
   "id": "b5ab56bd",
   "metadata": {},
   "outputs": [],
   "source": [
    "#6.1"
   ]
  },
  {
   "cell_type": "code",
   "execution_count": 50,
   "id": "17fb820c",
   "metadata": {},
   "outputs": [
    {
     "name": "stdout",
     "output_type": "stream",
     "text": [
      "Andy 88\n",
      "Amy 66\n",
      "James 90\n",
      "Jules 55\n",
      "Arthur 77\n"
     ]
    }
   ],
   "source": [
    "for name, grades in my_dictionary.items():\n",
    "    print (name, grades)"
   ]
  },
  {
   "cell_type": "code",
   "execution_count": null,
   "id": "7fdbb6f2",
   "metadata": {},
   "outputs": [],
   "source": [
    "#6.2"
   ]
  },
  {
   "cell_type": "code",
   "execution_count": 72,
   "id": "d12f6484",
   "metadata": {},
   "outputs": [
    {
     "data": {
      "text/plain": [
       "dict_values([88, 66, 90, 55, 77])"
      ]
     },
     "execution_count": 72,
     "metadata": {},
     "output_type": "execute_result"
    }
   ],
   "source": [
    "my_dictionary.values()"
   ]
  },
  {
   "cell_type": "code",
   "execution_count": 77,
   "id": "f4481fd0",
   "metadata": {},
   "outputs": [
    {
     "data": {
      "text/plain": [
       "376"
      ]
     },
     "execution_count": 77,
     "metadata": {},
     "output_type": "execute_result"
    }
   ],
   "source": [
    "sum(dict_values)"
   ]
  },
  {
   "cell_type": "code",
   "execution_count": 78,
   "id": "636c2885",
   "metadata": {},
   "outputs": [
    {
     "data": {
      "text/plain": [
       "75.2"
      ]
     },
     "execution_count": 78,
     "metadata": {},
     "output_type": "execute_result"
    }
   ],
   "source": [
    "sum(dict_values)/5"
   ]
  },
  {
   "cell_type": "code",
   "execution_count": 79,
   "id": "e83cbd71",
   "metadata": {},
   "outputs": [
    {
     "data": {
      "text/plain": [
       "90"
      ]
     },
     "execution_count": 79,
     "metadata": {},
     "output_type": "execute_result"
    }
   ],
   "source": [
    "max(dict_values)"
   ]
  },
  {
   "cell_type": "code",
   "execution_count": 80,
   "id": "f0785afa",
   "metadata": {},
   "outputs": [
    {
     "data": {
      "text/plain": [
       "55"
      ]
     },
     "execution_count": 80,
     "metadata": {},
     "output_type": "execute_result"
    }
   ],
   "source": [
    "min(dict_values)"
   ]
  },
  {
   "cell_type": "code",
   "execution_count": null,
   "id": "364ddb5d",
   "metadata": {},
   "outputs": [],
   "source": [
    "#6.3"
   ]
  },
  {
   "cell_type": "code",
   "execution_count": 131,
   "id": "f1b30708",
   "metadata": {},
   "outputs": [
    {
     "name": "stdout",
     "output_type": "stream",
     "text": [
      "Andy\n",
      "Amy\n",
      "James\n"
     ]
    }
   ],
   "source": [
    "for keys in my_dictionary:\n",
    "    print(keys)\n",
    "    if \"J\" in keys:\n",
    "        break"
   ]
  },
  {
   "cell_type": "code",
   "execution_count": null,
   "id": "9cb6e8e6",
   "metadata": {},
   "outputs": [],
   "source": [
    "#6.4"
   ]
  },
  {
   "cell_type": "code",
   "execution_count": 137,
   "id": "932bac54",
   "metadata": {},
   "outputs": [
    {
     "name": "stdout",
     "output_type": "stream",
     "text": [
      "Andy\n",
      "Amy\n",
      "Arthur\n"
     ]
    }
   ],
   "source": [
    "for keys in my_dictionary:\n",
    "    if \"J\" in keys:\n",
    "        continue\n",
    "    print(keys)"
   ]
  }
 ],
 "metadata": {
  "kernelspec": {
   "display_name": "Python 3 (ipykernel)",
   "language": "python",
   "name": "python3"
  },
  "language_info": {
   "codemirror_mode": {
    "name": "ipython",
    "version": 3
   },
   "file_extension": ".py",
   "mimetype": "text/x-python",
   "name": "python",
   "nbconvert_exporter": "python",
   "pygments_lexer": "ipython3",
   "version": "3.9.13"
  }
 },
 "nbformat": 4,
 "nbformat_minor": 5
}
