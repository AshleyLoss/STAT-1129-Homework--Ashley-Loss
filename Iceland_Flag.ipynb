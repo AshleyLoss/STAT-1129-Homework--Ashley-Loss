{
  "nbformat": 4,
  "nbformat_minor": 0,
  "metadata": {
    "colab": {
      "provenance": []
    },
    "kernelspec": {
      "name": "python3",
      "display_name": "Python 3"
    },
    "language_info": {
      "name": "python"
    }
  },
  "cells": [
    {
      "cell_type": "code",
      "execution_count": null,
      "metadata": {
        "id": "OyT00ryUTYmP"
      },
      "outputs": [],
      "source": [
        "from turtle import *\n",
        "\n",
        "speed(0)\n",
        "setup(800,500)\n",
        "bgcolor(\"royalblue\")\n",
        "\n",
        "penup()\n",
        "goto(-400,-50)\n",
        "pendown()\n",
        "\n",
        "color(\"white\")\n",
        "begin_fill()\n",
        "forward(800)\n",
        "left(90)\n",
        "forward(100)\n",
        "left(90)\n",
        "forward(800)\n",
        "end_fill()\n",
        "\n",
        "penup()\n",
        "goto(-100,-250)\n",
        "pendown()\n",
        "\n",
        "begin_fill()\n",
        "forward(100)\n",
        "right(90)\n",
        "forward(500)\n",
        "right(90)\n",
        "forward(100)\n",
        "end_fill()\n",
        "\n",
        "penup()\n",
        "goto(-400,-25)\n",
        "pendown()\n",
        "\n",
        "color(\"red\")\n",
        "begin_fill()\n",
        "forward(800)\n",
        "left(90)\n",
        "forward(50)\n",
        "left(90)\n",
        "forward(800)\n",
        "end_fill()\n",
        "\n",
        "penup()\n",
        "goto(-125,-250)\n",
        "pendown()\n",
        "\n",
        "begin_fill()\n",
        "forward(50)\n",
        "right(90)\n",
        "forward(500)\n",
        "right(90)\n",
        "forward(50)\n",
        "end_fill()"
      ]
    }
  ]
}