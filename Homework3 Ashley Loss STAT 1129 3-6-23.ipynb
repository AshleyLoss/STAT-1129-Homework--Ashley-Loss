{
 "cells": [
  {
   "cell_type": "code",
   "execution_count": 1,
   "id": "5f2c5369",
   "metadata": {},
   "outputs": [
    {
     "name": "stdout",
     "output_type": "stream",
     "text": [
      "0\n",
      "1\n",
      "2\n",
      "3\n",
      "4\n"
     ]
    }
   ],
   "source": [
    "def less_than(num):\n",
    "    for n in range(num):\n",
    "        print(n)\n",
    "        \n",
    "less_than(5)"
   ]
  },
  {
   "cell_type": "code",
   "execution_count": null,
   "id": "214c0b3e",
   "metadata": {},
   "outputs": [],
   "source": [
    "# Question 1:"
   ]
  },
  {
   "cell_type": "code",
   "execution_count": 6,
   "id": "42fd15e2",
   "metadata": {},
   "outputs": [],
   "source": [
    "grade = {'Andy':88, 'Amy':66, 'James':90, 'Jules':55, 'Arthur':77}"
   ]
  },
  {
   "cell_type": "code",
   "execution_count": 3,
   "id": "a7c47a91",
   "metadata": {},
   "outputs": [
    {
     "name": "stdout",
     "output_type": "stream",
     "text": [
      "88\n"
     ]
    }
   ],
   "source": [
    "def print_student(student_name):\n",
    "    grade = {'Andy':88, 'Amy':66, 'James':90, 'Jules':55, 'Arthur':77}\n",
    "    for student in grade:\n",
    "        if student == student_name:\n",
    "            print(grade[student])\n",
    "            break\n",
    "    else:\n",
    "        print('cannot find this student’s name')\n",
    "        \n",
    "print_student(\"Andy\")    "
   ]
  },
  {
   "cell_type": "code",
   "execution_count": 4,
   "id": "be79ee87",
   "metadata": {},
   "outputs": [
    {
     "name": "stdout",
     "output_type": "stream",
     "text": [
      "cannot find this student’s name\n"
     ]
    }
   ],
   "source": [
    "def print_student(student_name):\n",
    "    grade = {'Andy':88, 'Amy':66, 'James':90, 'Jules':55, 'Arthur':77}\n",
    "    for student in grade:\n",
    "        if student == student_name:\n",
    "            print(grade[student])\n",
    "            break\n",
    "    else:\n",
    "        print('cannot find this student’s name')\n",
    "        \n",
    "print_student(\"Mark\")  "
   ]
  },
  {
   "cell_type": "code",
   "execution_count": null,
   "id": "ec97f73f",
   "metadata": {},
   "outputs": [],
   "source": [
    "#Q2"
   ]
  },
  {
   "cell_type": "code",
   "execution_count": 8,
   "id": "b749fd0c",
   "metadata": {},
   "outputs": [],
   "source": [
    "grade_average = {\"Andy\": 88, \"Amy\": 66, \"James\": 90, \"Jules\": 55, \"Arthur\": 77}"
   ]
  },
  {
   "cell_type": "code",
   "execution_count": 9,
   "id": "52a87c02",
   "metadata": {},
   "outputs": [],
   "source": [
    "res = 0\n",
    "for val in grade_average.values():\n",
    "    res += val"
   ]
  },
  {
   "cell_type": "code",
   "execution_count": 10,
   "id": "c52373e1",
   "metadata": {},
   "outputs": [],
   "source": [
    "res = res / len(grade_average)"
   ]
  },
  {
   "cell_type": "code",
   "execution_count": 11,
   "id": "224a5f5d",
   "metadata": {},
   "outputs": [
    {
     "name": "stdout",
     "output_type": "stream",
     "text": [
      "The mean is : 75.2\n"
     ]
    }
   ],
   "source": [
    "print(\"The mean is : \" + str(res))"
   ]
  },
  {
   "cell_type": "code",
   "execution_count": null,
   "id": "5b624e04",
   "metadata": {},
   "outputs": [],
   "source": [
    "# Question 2: ?"
   ]
  },
  {
   "cell_type": "code",
   "execution_count": 21,
   "id": "acb43c09",
   "metadata": {},
   "outputs": [],
   "source": [
    "def a_function(num):\n",
    "    while n < num:\n",
    "        print(n)\n",
    "        \n",
    "    else:\n",
    "        print(\"greater than\", num)"
   ]
  },
  {
   "cell_type": "code",
   "execution_count": null,
   "id": "4fc7cd09",
   "metadata": {},
   "outputs": [],
   "source": [
    "# Question 3"
   ]
  },
  {
   "cell_type": "code",
   "execution_count": 22,
   "id": "12c33920",
   "metadata": {},
   "outputs": [
    {
     "name": "stdout",
     "output_type": "stream",
     "text": [
      "21\n"
     ]
    }
   ],
   "source": [
    "def number_sum(num):\n",
    "    n = 1\n",
    "    sum = 0\n",
    "    while n <= num:\n",
    "        sum = sum + n\n",
    "        n = n + 1\n",
    "    print(sum)\n",
    "number_sum(6)"
   ]
  },
  {
   "cell_type": "code",
   "execution_count": null,
   "id": "cbfca92b",
   "metadata": {},
   "outputs": [],
   "source": [
    "#?? Question 4: Define a function. add all the integers from 1 to num, print out the sum at each step/iteration. Using for loop."
   ]
  },
  {
   "cell_type": "code",
   "execution_count": 24,
   "id": "1673f4fa",
   "metadata": {},
   "outputs": [
    {
     "name": "stdout",
     "output_type": "stream",
     "text": [
      "465\n"
     ]
    }
   ],
   "source": [
    "def num_sum2(num):\n",
    "    sum = 0\n",
    "    for n in range(num):\n",
    "        sum = sum + n\n",
    "    print(sum)\n",
    "num_sum2(31)"
   ]
  },
  {
   "cell_type": "code",
   "execution_count": null,
   "id": "7982bf6d",
   "metadata": {},
   "outputs": [],
   "source": [
    "# Question 5: Define a function. For a given list, range (1, 100), calculate its mean, sum, and standard deviation. You can use built in function and package."
   ]
  },
  {
   "cell_type": "code",
   "execution_count": 28,
   "id": "2138134b",
   "metadata": {},
   "outputs": [],
   "source": [
    "import statistics as stats"
   ]
  },
  {
   "cell_type": "code",
   "execution_count": 31,
   "id": "7e8c4818",
   "metadata": {},
   "outputs": [],
   "source": [
    "list = range(1, 100)"
   ]
  },
  {
   "cell_type": "code",
   "execution_count": 39,
   "id": "bedc8089",
   "metadata": {},
   "outputs": [
    {
     "data": {
      "text/plain": [
       "50"
      ]
     },
     "execution_count": 39,
     "metadata": {},
     "output_type": "execute_result"
    }
   ],
   "source": [
    "stats.mean(list)"
   ]
  },
  {
   "cell_type": "code",
   "execution_count": 42,
   "id": "0e146fe9",
   "metadata": {},
   "outputs": [
    {
     "data": {
      "text/plain": [
       "4950"
      ]
     },
     "execution_count": 42,
     "metadata": {},
     "output_type": "execute_result"
    }
   ],
   "source": [
    "sum(list)"
   ]
  },
  {
   "cell_type": "code",
   "execution_count": 43,
   "id": "002094ab",
   "metadata": {},
   "outputs": [
    {
     "data": {
      "text/plain": [
       "28.722813232690143"
      ]
     },
     "execution_count": 43,
     "metadata": {},
     "output_type": "execute_result"
    }
   ],
   "source": [
    "stats.stdev(list)"
   ]
  },
  {
   "cell_type": "code",
   "execution_count": null,
   "id": "e971026f",
   "metadata": {},
   "outputs": [],
   "source": [
    "# Question 6"
   ]
  },
  {
   "cell_type": "code",
   "execution_count": 60,
   "id": "e2b9dfd8",
   "metadata": {},
   "outputs": [
    {
     "name": "stdout",
     "output_type": "stream",
     "text": [
      "1\n"
     ]
    }
   ],
   "source": [
    "def minimum(num):\n",
    "    mini = num[0]\n",
    "    for i in num[0:]:\n",
    "        if i < mini:\n",
    "            mini = i\n",
    "        else:\n",
    "            mini = num[0]\n",
    "    return (mini)\n",
    "b=[1,2,3,4]\n",
    "print(minimum(b))"
   ]
  },
  {
   "cell_type": "code",
   "execution_count": null,
   "id": "b0fdc5c8",
   "metadata": {},
   "outputs": [],
   "source": [
    "# Question 7"
   ]
  },
  {
   "cell_type": "code",
   "execution_count": 14,
   "id": "1d8b97fd",
   "metadata": {},
   "outputs": [],
   "source": [
    "var1 = \"I \"\n",
    "var2 = \"am \"\n",
    "var3 = \"Happy\""
   ]
  },
  {
   "cell_type": "code",
   "execution_count": 15,
   "id": "a4bae824",
   "metadata": {},
   "outputs": [],
   "source": [
    "def string_function(var1, var2, var3):\n",
    "    var1 = \"I\"\n",
    "    var2 = \"am\"\n",
    "    var3 = \"Happy\"\n",
    "var4 = var1 + var2 + var3"
   ]
  },
  {
   "cell_type": "code",
   "execution_count": 16,
   "id": "4cf7e7be",
   "metadata": {},
   "outputs": [
    {
     "name": "stdout",
     "output_type": "stream",
     "text": [
      "I am Happy\n"
     ]
    }
   ],
   "source": [
    "print(var4)"
   ]
  }
 ],
 "metadata": {
  "kernelspec": {
   "display_name": "Python 3 (ipykernel)",
   "language": "python",
   "name": "python3"
  },
  "language_info": {
   "codemirror_mode": {
    "name": "ipython",
    "version": 3
   },
   "file_extension": ".py",
   "mimetype": "text/x-python",
   "name": "python",
   "nbconvert_exporter": "python",
   "pygments_lexer": "ipython3",
   "version": "3.9.13"
  }
 },
 "nbformat": 4,
 "nbformat_minor": 5
}
