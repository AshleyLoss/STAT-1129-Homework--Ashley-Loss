{
 "cells": [
  {
   "cell_type": "code",
   "execution_count": 35,
   "id": "d9b81c1e",
   "metadata": {},
   "outputs": [],
   "source": [
    "class Human:\n",
    "    \n",
    "    class_attribute_1_species_type = \"homo sapiens\"\n",
    "    class_attribute_2_locomotion_type = \"bipedal\"\n",
    "    class_attribute_3_order_classification = \"primata\"\n",
    "    class_attribute_4_communication_type = \"speech\"\n",
    "\n",
    "    def __init__(self, name, height, age, weight):\n",
    "        self.instance_attribute_name = name\n",
    "        self.instance_attribute_height = height\n",
    "        self.instance_attribute_age = age\n",
    "        self.instance_attribute_weight = weight "
   ]
  },
  {
   "cell_type": "code",
   "execution_count": 36,
   "id": "0e89b7ef",
   "metadata": {},
   "outputs": [],
   "source": [
    "A = Human(name = \"sam\", height = 60, age = 40, weight = 150)"
   ]
  },
  {
   "cell_type": "code",
   "execution_count": 38,
   "id": "d9d9b66d",
   "metadata": {},
   "outputs": [
    {
     "name": "stdout",
     "output_type": "stream",
     "text": [
      "sam\n"
     ]
    }
   ],
   "source": [
    "print(A.instance_attribute_name)"
   ]
  },
  {
   "cell_type": "code",
   "execution_count": 39,
   "id": "6120da69",
   "metadata": {},
   "outputs": [],
   "source": [
    "B = Human(name = \"aaron\", height = 67, age = 42, weight = 158)"
   ]
  },
  {
   "cell_type": "code",
   "execution_count": 40,
   "id": "b79b54f3",
   "metadata": {},
   "outputs": [
    {
     "name": "stdout",
     "output_type": "stream",
     "text": [
      "aaron\n"
     ]
    }
   ],
   "source": [
    "print(B.instance_attribute_name)"
   ]
  },
  {
   "cell_type": "code",
   "execution_count": 30,
   "id": "cb796658",
   "metadata": {},
   "outputs": [
    {
     "name": "stdout",
     "output_type": "stream",
     "text": [
      "fish\n",
      "ocean\n",
      "5\n"
     ]
    }
   ],
   "source": [
    "class Shark:\n",
    "    animal_type = \"fish\"\n",
    "    location = \"ocean\"\n",
    "    followers = 5\n",
    "\n",
    "new_shark = Shark()\n",
    "print(new_shark.animal_type)\n",
    "print(new_shark.location)\n",
    "print(new_shark.followers)"
   ]
  },
  {
   "cell_type": "code",
   "execution_count": 18,
   "id": "8787cc36",
   "metadata": {},
   "outputs": [
    {
     "name": "stdout",
     "output_type": "stream",
     "text": [
      "Shark_1\n",
      "5\n",
      "Shark_2\n",
      "8\n"
     ]
    }
   ],
   "source": [
    "class Shark:\n",
    "    def __init__(self, name, age):\n",
    "        self.name = name\n",
    "        self.age = age\n",
    "\n",
    "new_shark = Shark(\"Shark_1\", 5)\n",
    "print(new_shark.name)\n",
    "print(new_shark.age)\n",
    "\n",
    "stevie = Shark(\"Shark_2\", 8)\n",
    "print(stevie.name)\n",
    "print(stevie.age)"
   ]
  },
  {
   "cell_type": "code",
   "execution_count": 14,
   "id": "38ddef65",
   "metadata": {},
   "outputs": [],
   "source": [
    "#Question 2:"
   ]
  },
  {
   "cell_type": "code",
   "execution_count": 19,
   "id": "081de5a0",
   "metadata": {},
   "outputs": [],
   "source": [
    "import math\n",
    "\n",
    "class Point:\n",
    "    def __init__(self,x,y): \n",
    "        self.x = x\n",
    "        self.y = y\n",
    "        \n",
    "    def Dist(self,other):\n",
    "        dx = self.x - other.x  \n",
    "        dy = self.y - other.y   \n",
    "        d = math.sqrt(dx**2+dy**2)  \n",
    "        return d"
   ]
  },
  {
   "cell_type": "code",
   "execution_count": 20,
   "id": "05a22dfb",
   "metadata": {},
   "outputs": [
    {
     "name": "stdout",
     "output_type": "stream",
     "text": [
      "0.0\n"
     ]
    }
   ],
   "source": [
    "P = Point(0,0)\n",
    "Q = Point(0,0)\n",
    "d = P.Dist(Q)\n",
    "print(d)   "
   ]
  },
  {
   "cell_type": "code",
   "execution_count": 21,
   "id": "d6ec69e9",
   "metadata": {},
   "outputs": [],
   "source": [
    "# Question 3"
   ]
  },
  {
   "cell_type": "code",
   "execution_count": 21,
   "id": "1d69a5c6",
   "metadata": {},
   "outputs": [
    {
     "ename": "AttributeError",
     "evalue": "'B' object has no attribute 'j'",
     "output_type": "error",
     "traceback": [
      "\u001b[0;31m---------------------------------------------------------------------------\u001b[0m",
      "\u001b[0;31mAttributeError\u001b[0m                            Traceback (most recent call last)",
      "\u001b[0;32m/var/folders/pr/14ktyshs4kx986c5dgt47blc0000gn/T/ipykernel_11519/3821467533.py\u001b[0m in \u001b[0;36m<module>\u001b[0;34m\u001b[0m\n\u001b[1;32m     12\u001b[0m     \u001b[0mprint\u001b[0m\u001b[0;34m(\u001b[0m\u001b[0mb\u001b[0m\u001b[0;34m.\u001b[0m\u001b[0mi\u001b[0m\u001b[0;34m)\u001b[0m\u001b[0;34m\u001b[0m\u001b[0;34m\u001b[0m\u001b[0m\n\u001b[1;32m     13\u001b[0m \u001b[0;34m\u001b[0m\u001b[0m\n\u001b[0;32m---> 14\u001b[0;31m \u001b[0mmain\u001b[0m\u001b[0;34m(\u001b[0m\u001b[0;34m)\u001b[0m\u001b[0;34m\u001b[0m\u001b[0;34m\u001b[0m\u001b[0m\n\u001b[0m",
      "\u001b[0;32m/var/folders/pr/14ktyshs4kx986c5dgt47blc0000gn/T/ipykernel_11519/3821467533.py\u001b[0m in \u001b[0;36mmain\u001b[0;34m()\u001b[0m\n\u001b[1;32m      9\u001b[0m \u001b[0;32mdef\u001b[0m \u001b[0mmain\u001b[0m\u001b[0;34m(\u001b[0m\u001b[0;34m)\u001b[0m\u001b[0;34m:\u001b[0m\u001b[0;34m\u001b[0m\u001b[0;34m\u001b[0m\u001b[0m\n\u001b[1;32m     10\u001b[0m     \u001b[0mb\u001b[0m \u001b[0;34m=\u001b[0m \u001b[0mB\u001b[0m\u001b[0;34m(\u001b[0m\u001b[0;34m)\u001b[0m\u001b[0;34m\u001b[0m\u001b[0;34m\u001b[0m\u001b[0m\n\u001b[0;32m---> 11\u001b[0;31m     \u001b[0mprint\u001b[0m\u001b[0;34m(\u001b[0m\u001b[0mb\u001b[0m\u001b[0;34m.\u001b[0m\u001b[0mj\u001b[0m\u001b[0;34m)\u001b[0m\u001b[0;34m\u001b[0m\u001b[0;34m\u001b[0m\u001b[0m\n\u001b[0m\u001b[1;32m     12\u001b[0m     \u001b[0mprint\u001b[0m\u001b[0;34m(\u001b[0m\u001b[0mb\u001b[0m\u001b[0;34m.\u001b[0m\u001b[0mi\u001b[0m\u001b[0;34m)\u001b[0m\u001b[0;34m\u001b[0m\u001b[0;34m\u001b[0m\u001b[0m\n\u001b[1;32m     13\u001b[0m \u001b[0;34m\u001b[0m\u001b[0m\n",
      "\u001b[0;31mAttributeError\u001b[0m: 'B' object has no attribute 'j'"
     ]
    }
   ],
   "source": [
    "class A:\n",
    "    def __int__(self, i = 0):\n",
    "        self.i = i\n",
    "\n",
    "class B(A):\n",
    "    def __inti__(self, j = 0):\n",
    "        self.j = j\n",
    "        \n",
    "def main():\n",
    "    b = B()\n",
    "    print(b.j)\n",
    "    print(b.i)\n",
    "    \n",
    "main()"
   ]
  },
  {
   "cell_type": "code",
   "execution_count": 24,
   "id": "ded30c18",
   "metadata": {},
   "outputs": [],
   "source": [
    "# answer: D"
   ]
  },
  {
   "cell_type": "code",
   "execution_count": null,
   "id": "0bbaf35a",
   "metadata": {},
   "outputs": [],
   "source": [
    "# Question 4:"
   ]
  },
  {
   "cell_type": "code",
   "execution_count": 1,
   "id": "0a57d22b",
   "metadata": {},
   "outputs": [
    {
     "name": "stdout",
     "output_type": "stream",
     "text": [
      "hello world\n"
     ]
    }
   ],
   "source": [
    "def main():\n",
    "    print(\"hello \", end=\"\")\n",
    "try:\n",
    "    if __name__ == \"__main__\":\n",
    "        main()\n",
    "except:\n",
    "    print(\"name\")\n",
    "finally:\n",
    "    print(\"world\")"
   ]
  },
  {
   "cell_type": "code",
   "execution_count": null,
   "id": "66e0571a",
   "metadata": {},
   "outputs": [],
   "source": [
    "# the output is- hello world"
   ]
  },
  {
   "cell_type": "code",
   "execution_count": null,
   "id": "d00eec2f",
   "metadata": {},
   "outputs": [],
   "source": [
    "#Question 5:"
   ]
  },
  {
   "cell_type": "code",
   "execution_count": null,
   "id": "9a4c1e46",
   "metadata": {},
   "outputs": [],
   "source": [
    "# Answer is C"
   ]
  },
  {
   "cell_type": "code",
   "execution_count": null,
   "id": "c2222c37",
   "metadata": {},
   "outputs": [],
   "source": [
    "# Question 6:"
   ]
  },
  {
   "cell_type": "code",
   "execution_count": 2,
   "id": "67c18950",
   "metadata": {},
   "outputs": [
    {
     "ename": "TypeError",
     "evalue": "Only integers are allowed",
     "output_type": "error",
     "traceback": [
      "\u001b[0;31m---------------------------------------------------------------------------\u001b[0m",
      "\u001b[0;31mTypeError\u001b[0m                                 Traceback (most recent call last)",
      "\u001b[0;32m/var/folders/pr/14ktyshs4kx986c5dgt47blc0000gn/T/ipykernel_5678/773498776.py\u001b[0m in \u001b[0;36m<module>\u001b[0;34m\u001b[0m\n\u001b[1;32m      1\u001b[0m \u001b[0mx\u001b[0m \u001b[0;34m=\u001b[0m \u001b[0;34m\"hello\"\u001b[0m\u001b[0;34m\u001b[0m\u001b[0;34m\u001b[0m\u001b[0m\n\u001b[1;32m      2\u001b[0m \u001b[0;32mif\u001b[0m \u001b[0;32mnot\u001b[0m \u001b[0mtype\u001b[0m\u001b[0;34m(\u001b[0m\u001b[0mx\u001b[0m\u001b[0;34m)\u001b[0m \u001b[0;32mis\u001b[0m \u001b[0mint\u001b[0m\u001b[0;34m:\u001b[0m\u001b[0;34m\u001b[0m\u001b[0;34m\u001b[0m\u001b[0m\n\u001b[0;32m----> 3\u001b[0;31m     \u001b[0;32mraise\u001b[0m \u001b[0mTypeError\u001b[0m\u001b[0;34m(\u001b[0m\u001b[0;34m\"Only integers are allowed\"\u001b[0m\u001b[0;34m)\u001b[0m\u001b[0;34m\u001b[0m\u001b[0;34m\u001b[0m\u001b[0m\n\u001b[0m",
      "\u001b[0;31mTypeError\u001b[0m: Only integers are allowed"
     ]
    }
   ],
   "source": [
    "x = \"hello\"\n",
    "if not type(x) is int:\n",
    "    raise TypeError(\"Only integers are allowed\")"
   ]
  },
  {
   "cell_type": "code",
   "execution_count": null,
   "id": "3ff08416",
   "metadata": {},
   "outputs": [],
   "source": [
    "# It outputs a type error saying integers are only allowed ^"
   ]
  }
 ],
 "metadata": {
  "kernelspec": {
   "display_name": "Python 3 (ipykernel)",
   "language": "python",
   "name": "python3"
  },
  "language_info": {
   "codemirror_mode": {
    "name": "ipython",
    "version": 3
   },
   "file_extension": ".py",
   "mimetype": "text/x-python",
   "name": "python",
   "nbconvert_exporter": "python",
   "pygments_lexer": "ipython3",
   "version": "3.9.13"
  }
 },
 "nbformat": 4,
 "nbformat_minor": 5
}
